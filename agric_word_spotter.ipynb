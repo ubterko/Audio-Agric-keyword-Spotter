{
 "cells": [
  {
   "cell_type": "code",
   "execution_count": 17,
   "metadata": {},
   "outputs": [],
   "source": [
    "import pandas as pd\n",
    "import IPython.display as ipd\n",
    "import librosa\n",
    "import python_speech_features as psf\n",
    "# from matplotlib import pyplot as plt\n",
    "import numpy as np"
   ]
  },
  {
   "cell_type": "code",
   "execution_count": 18,
   "metadata": {},
   "outputs": [
    {
     "data": {
      "text/html": [
       "<div>\n",
       "<style scoped>\n",
       "    .dataframe tbody tr th:only-of-type {\n",
       "        vertical-align: middle;\n",
       "    }\n",
       "\n",
       "    .dataframe tbody tr th {\n",
       "        vertical-align: top;\n",
       "    }\n",
       "\n",
       "    .dataframe thead th {\n",
       "        text-align: right;\n",
       "    }\n",
       "</style>\n",
       "<table border=\"1\" class=\"dataframe\">\n",
       "  <thead>\n",
       "    <tr style=\"text-align: right;\">\n",
       "      <th></th>\n",
       "      <th>fn</th>\n",
       "      <th>label</th>\n",
       "    </tr>\n",
       "  </thead>\n",
       "  <tbody>\n",
       "    <tr>\n",
       "      <th>0</th>\n",
       "      <td>audio_files/IV38R7F.wav</td>\n",
       "      <td>akawuka</td>\n",
       "    </tr>\n",
       "    <tr>\n",
       "      <th>1</th>\n",
       "      <td>audio_files/KM4SKWT.wav</td>\n",
       "      <td>banana</td>\n",
       "    </tr>\n",
       "    <tr>\n",
       "      <th>2</th>\n",
       "      <td>audio_files/F5POSU9.wav</td>\n",
       "      <td>obulwadde</td>\n",
       "    </tr>\n",
       "    <tr>\n",
       "      <th>3</th>\n",
       "      <td>audio_files/MMVDXG2.wav</td>\n",
       "      <td>nnyaanya</td>\n",
       "    </tr>\n",
       "    <tr>\n",
       "      <th>4</th>\n",
       "      <td>audio_files/9TVM96F.wav</td>\n",
       "      <td>pampu</td>\n",
       "    </tr>\n",
       "  </tbody>\n",
       "</table>\n",
       "</div>"
      ],
      "text/plain": [
       "                        fn      label\n",
       "0  audio_files/IV38R7F.wav    akawuka\n",
       "1  audio_files/KM4SKWT.wav     banana\n",
       "2  audio_files/F5POSU9.wav  obulwadde\n",
       "3  audio_files/MMVDXG2.wav   nnyaanya\n",
       "4  audio_files/9TVM96F.wav      pampu"
      ]
     },
     "execution_count": 18,
     "metadata": {},
     "output_type": "execute_result"
    }
   ],
   "source": [
    "train = pd.read_csv('Train.csv')\n",
    "train.head()"
   ]
  },
  {
   "cell_type": "code",
   "execution_count": 19,
   "metadata": {},
   "outputs": [
    {
     "data": {
      "text/plain": [
       "(1017, 194)"
      ]
     },
     "execution_count": 19,
     "metadata": {},
     "output_type": "execute_result"
    }
   ],
   "source": [
    "ss = pd.read_csv('../SampleSubmission.csv')\n",
    "ss.shape"
   ]
  },
  {
   "cell_type": "code",
   "execution_count": 20,
   "metadata": {},
   "outputs": [
    {
     "data": {
      "text/plain": [
       "(1109, 2)"
      ]
     },
     "execution_count": 20,
     "metadata": {},
     "output_type": "execute_result"
    }
   ],
   "source": [
    "train.shape"
   ]
  },
  {
   "cell_type": "code",
   "execution_count": null,
   "metadata": {},
   "outputs": [],
   "source": [
    "Here the dataframe for the additional files are created. This is probably going to be revised later to contain more relevant information that would be needed in the project in order to safely sol"
   ]
  },
  {
   "cell_type": "code",
   "execution_count": 74,
   "metadata": {},
   "outputs": [],
   "source": [
    "import os\n",
    "\n",
    "def create_df(folder, path):\n",
    "    fn = []\n",
    "    labels = []\n",
    "    for i in os.listdir(path=path):\n",
    "        for j in os.listdir(path=path + '\\\\' + i):\n",
    "            fn.append(f'{folder}/{i}/{j}')\n",
    "            labels.append(i)\n",
    "    return fn, labels\n",
    "                            \n",
    "# then we create them\n",
    "a, b = create_df('nlp_keywords', 'C:\\\\Users\\\\Divine Comprehensive\\\\books\\\\Audio\\\\GIZ\\\\nlp_keywords')\n",
    "c, d = create_df('AdditionalUtterances', 'C:\\\\Users\\\\Divine Comprehensive\\\\books\\\\Audio\\\\GIZ\\\\AdditionalUtterances')\n",
    "\n",
    "# and put in a dataframe\n",
    "nlp_keywords = pd.DataFrame({'fn': a, 'label': b})\n",
    "AdditionalUtterances = pd.DataFrame({'fn': c, 'label': d})"
   ]
  },
  {
   "cell_type": "code",
   "execution_count": 75,
   "metadata": {},
   "outputs": [
    {
     "data": {
      "text/html": [
       "<div>\n",
       "<style scoped>\n",
       "    .dataframe tbody tr th:only-of-type {\n",
       "        vertical-align: middle;\n",
       "    }\n",
       "\n",
       "    .dataframe tbody tr th {\n",
       "        vertical-align: top;\n",
       "    }\n",
       "\n",
       "    .dataframe thead th {\n",
       "        text-align: right;\n",
       "    }\n",
       "</style>\n",
       "<table border=\"1\" class=\"dataframe\">\n",
       "  <thead>\n",
       "    <tr style=\"text-align: right;\">\n",
       "      <th></th>\n",
       "      <th>fn</th>\n",
       "      <th>label</th>\n",
       "    </tr>\n",
       "  </thead>\n",
       "  <tbody>\n",
       "    <tr>\n",
       "      <th>0</th>\n",
       "      <td>nlp_keywords/abalimi/6fbfcce2cf21419e97290f9e1...</td>\n",
       "      <td>abalimi</td>\n",
       "    </tr>\n",
       "    <tr>\n",
       "      <th>1</th>\n",
       "      <td>nlp_keywords/abalimi/6fbfcce2cf21419e97290f9e1...</td>\n",
       "      <td>abalimi</td>\n",
       "    </tr>\n",
       "    <tr>\n",
       "      <th>2</th>\n",
       "      <td>nlp_keywords/abalimi/6fbfcce2cf21419e97290f9e1...</td>\n",
       "      <td>abalimi</td>\n",
       "    </tr>\n",
       "    <tr>\n",
       "      <th>3</th>\n",
       "      <td>nlp_keywords/abalimi/6fbfcce2cf21419e97290f9e1...</td>\n",
       "      <td>abalimi</td>\n",
       "    </tr>\n",
       "    <tr>\n",
       "      <th>4</th>\n",
       "      <td>nlp_keywords/abalimi/6fbfcce2cf21419e97290f9e1...</td>\n",
       "      <td>abalimi</td>\n",
       "    </tr>\n",
       "  </tbody>\n",
       "</table>\n",
       "</div>"
      ],
      "text/plain": [
       "                                                  fn    label\n",
       "0  nlp_keywords/abalimi/6fbfcce2cf21419e97290f9e1...  abalimi\n",
       "1  nlp_keywords/abalimi/6fbfcce2cf21419e97290f9e1...  abalimi\n",
       "2  nlp_keywords/abalimi/6fbfcce2cf21419e97290f9e1...  abalimi\n",
       "3  nlp_keywords/abalimi/6fbfcce2cf21419e97290f9e1...  abalimi\n",
       "4  nlp_keywords/abalimi/6fbfcce2cf21419e97290f9e1...  abalimi"
      ]
     },
     "execution_count": 75,
     "metadata": {},
     "output_type": "execute_result"
    }
   ],
   "source": [
    "nlp_keywords.head()"
   ]
  },
  {
   "cell_type": "code",
   "execution_count": 79,
   "metadata": {},
   "outputs": [
    {
     "data": {
      "text/html": [
       "\n",
       "                <audio  controls=\"controls\" >\n",
       "                    <source src=\"data:audio/wav;base64,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\" type=\"audio/wav\" />\n",
       "                    Your browser does not support the audio element.\n",
       "                </audio>\n",
       "              "
      ],
      "text/plain": [
       "<IPython.lib.display.Audio object>"
      ]
     },
     "execution_count": 79,
     "metadata": {},
     "output_type": "execute_result"
    }
   ],
   "source": [
    "ipd.Audio(nlp_keywords['fn'].loc[4])"
   ]
  },
  {
   "cell_type": "code",
   "execution_count": 76,
   "metadata": {},
   "outputs": [
    {
     "data": {
      "text/html": [
       "<div>\n",
       "<style scoped>\n",
       "    .dataframe tbody tr th:only-of-type {\n",
       "        vertical-align: middle;\n",
       "    }\n",
       "\n",
       "    .dataframe tbody tr th {\n",
       "        vertical-align: top;\n",
       "    }\n",
       "\n",
       "    .dataframe thead th {\n",
       "        text-align: right;\n",
       "    }\n",
       "</style>\n",
       "<table border=\"1\" class=\"dataframe\">\n",
       "  <thead>\n",
       "    <tr style=\"text-align: right;\">\n",
       "      <th></th>\n",
       "      <th>fn</th>\n",
       "      <th>label</th>\n",
       "    </tr>\n",
       "  </thead>\n",
       "  <tbody>\n",
       "    <tr>\n",
       "      <th>0</th>\n",
       "      <td>AdditionalUtterances/abalimi/1b5a69c4b88b41eb9...</td>\n",
       "      <td>abalimi</td>\n",
       "    </tr>\n",
       "    <tr>\n",
       "      <th>1</th>\n",
       "      <td>AdditionalUtterances/abalimi/1b5a69c4b88b41eb9...</td>\n",
       "      <td>abalimi</td>\n",
       "    </tr>\n",
       "    <tr>\n",
       "      <th>2</th>\n",
       "      <td>AdditionalUtterances/abalimi/1b5a69c4b88b41eb9...</td>\n",
       "      <td>abalimi</td>\n",
       "    </tr>\n",
       "    <tr>\n",
       "      <th>3</th>\n",
       "      <td>AdditionalUtterances/abalimi/1b5a69c4b88b41eb9...</td>\n",
       "      <td>abalimi</td>\n",
       "    </tr>\n",
       "    <tr>\n",
       "      <th>4</th>\n",
       "      <td>AdditionalUtterances/abalimi/1b5a69c4b88b41eb9...</td>\n",
       "      <td>abalimi</td>\n",
       "    </tr>\n",
       "  </tbody>\n",
       "</table>\n",
       "</div>"
      ],
      "text/plain": [
       "                                                  fn    label\n",
       "0  AdditionalUtterances/abalimi/1b5a69c4b88b41eb9...  abalimi\n",
       "1  AdditionalUtterances/abalimi/1b5a69c4b88b41eb9...  abalimi\n",
       "2  AdditionalUtterances/abalimi/1b5a69c4b88b41eb9...  abalimi\n",
       "3  AdditionalUtterances/abalimi/1b5a69c4b88b41eb9...  abalimi\n",
       "4  AdditionalUtterances/abalimi/1b5a69c4b88b41eb9...  abalimi"
      ]
     },
     "execution_count": 76,
     "metadata": {},
     "output_type": "execute_result"
    }
   ],
   "source": [
    "AdditionalUtterances.head()"
   ]
  },
  {
   "cell_type": "code",
   "execution_count": null,
   "metadata": {},
   "outputs": [],
   "source": []
  },
  {
   "cell_type": "code",
   "execution_count": null,
   "metadata": {},
   "outputs": [],
   "source": []
  }
 ],
 "metadata": {
  "kernelspec": {
   "display_name": "Python 3",
   "language": "python",
   "name": "python3"
  },
  "language_info": {
   "codemirror_mode": {
    "name": "ipython",
    "version": 3
   },
   "file_extension": ".py",
   "mimetype": "text/x-python",
   "name": "python",
   "nbconvert_exporter": "python",
   "pygments_lexer": "ipython3",
   "version": "3.7.6"
  }
 },
 "nbformat": 4,
 "nbformat_minor": 4
}
